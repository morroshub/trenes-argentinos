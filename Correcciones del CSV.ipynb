{
 "cells": [
  {
   "cell_type": "markdown",
   "id": "f7a21074",
   "metadata": {},
   "source": [
    "# Documentacion de las columnas segun origen : \n",
    "\n",
    "https://www.datos.gob.ar/dataset/transporte-sube---cantidad-transacciones-usos-por-fecha/archivo/transporte_93410ab1-88df-457a-8e24-262d41211f9c\n",
    "\n",
    "\n",
    "### dia_transporte \n",
    "\tFecha ISO-8601 (date)\n",
    "\tDía de transporte informado \n",
    "    \n",
    "### nombre_empresa \n",
    "\tTexto (string)\n",
    "\tNombre de la empresa de transporte \n",
    "    \n",
    "### linea \n",
    "\tTexto (string)\n",
    "\tDescripción de la línea \n",
    "\n",
    "### amba \n",
    "\tTexto (string)\n",
    "\tSI/NO \n",
    "    \n",
    "### tipo_transporte \n",
    "\tTexto (string)\n",
    "\tcolectivo, tren, subte, lanchas \n",
    "    \n",
    "### jurisdiccion \n",
    "\tTexto (string)\n",
    "\ttipo de jurisdicción de la línea (NACIONAL, PROVINCIAL, MUNICIPAL): en caso de subte queda vacío. \n",
    "    \n",
    "    \n",
    "### provincia \n",
    "\tTexto (string)\n",
    "\tnombre de la provincia, en caso de ser jurisdicción provincial o municipal. Si es jurisdicción nacional figura JN. En caso de subte queda vacío.\n",
    "    \n",
    "### municipio \n",
    "\tTexto (string)\n",
    "\tnombre del municipio, en caso de ser jurisdicción municipal. SI es jurisdicción nacional o provincial figura SD o SN respectivamente. En caso de subte queda vacío.\n",
    "    \n",
    "### cantidad \n",
    "\tNúmero entero (integer)\n",
    "\tcantidad de transacciones de uso / check-in / checkout sin checkin / Venta de boletos, neteadas de eventuales reversas.\n",
    "    \n",
    "### dato_preliminar \n",
    "\tTexto (string)\n",
    "\tSI/NO \n"
   ]
  },
  {
   "cell_type": "code",
   "execution_count": 20,
   "id": "92cc53dd",
   "metadata": {},
   "outputs": [],
   "source": [
    "# Limpieza de los datos para que solo tengamos informacion acerca de los trenes "
   ]
  },
  {
   "cell_type": "code",
   "execution_count": 21,
   "id": "b3b03448",
   "metadata": {},
   "outputs": [],
   "source": [
    "import pandas as pd"
   ]
  },
  {
   "cell_type": "code",
   "execution_count": 22,
   "id": "5bd3f896",
   "metadata": {},
   "outputs": [],
   "source": [
    "df = pd.read_csv('datosoficiales2022.csv')"
   ]
  },
  {
   "cell_type": "code",
   "execution_count": 23,
   "id": "80095561",
   "metadata": {},
   "outputs": [
    {
     "name": "stdout",
     "output_type": "stream",
     "text": [
      "<class 'pandas.core.frame.DataFrame'>\n",
      "RangeIndex: 439337 entries, 0 to 439336\n",
      "Data columns (total 10 columns):\n",
      " #   Column           Non-Null Count   Dtype \n",
      "---  ------           --------------   ----- \n",
      " 0   DIA_TRANSPORTE   439337 non-null  object\n",
      " 1   NOMBRE_EMPRESA   439337 non-null  object\n",
      " 2   LINEA            439337 non-null  object\n",
      " 3   AMBA             439337 non-null  object\n",
      " 4   TIPO_TRANSPORTE  439337 non-null  object\n",
      " 5   JURISDICCION     436762 non-null  object\n",
      " 6   PROVINCIA        436762 non-null  object\n",
      " 7   MUNICIPIO        436762 non-null  object\n",
      " 8   CANTIDAD         439337 non-null  int64 \n",
      " 9   DATO_PRELIMINAR  439337 non-null  object\n",
      "dtypes: int64(1), object(9)\n",
      "memory usage: 33.5+ MB\n"
     ]
    }
   ],
   "source": [
    "df.info()"
   ]
  },
  {
   "cell_type": "code",
   "execution_count": 24,
   "id": "9cbefc4a",
   "metadata": {},
   "outputs": [],
   "source": [
    "# Elimina las filas donde TIPO_TRANSPORTE sea diferente de 'TREN'\n",
    "df = df[df['TIPO_TRANSPORTE'] == 'TREN']\n"
   ]
  },
  {
   "cell_type": "code",
   "execution_count": 25,
   "id": "948eeb2d",
   "metadata": {},
   "outputs": [
    {
     "name": "stdout",
     "output_type": "stream",
     "text": [
      "object\n"
     ]
    }
   ],
   "source": [
    "df['DIA_TRANSPORTE']\n",
    "print(df['DIA_TRANSPORTE'].dtype)\n"
   ]
  },
  {
   "cell_type": "code",
   "execution_count": 27,
   "id": "71083147",
   "metadata": {},
   "outputs": [
    {
     "name": "stdout",
     "output_type": "stream",
     "text": [
      "datetime64[ns]\n"
     ]
    }
   ],
   "source": [
    "# los datos no estan en el formato correcto, los transformamos.\n",
    "\n",
    "df['DIA_TRANSPORTE'] = pd.to_datetime(df['DIA_TRANSPORTE'], format='%Y-%m-%d', errors='coerce')\n",
    "print(df['DIA_TRANSPORTE'].dtype)\n"
   ]
  },
  {
   "cell_type": "code",
   "execution_count": 30,
   "id": "5e7b6e01",
   "metadata": {},
   "outputs": [],
   "source": [
    "df['DIA_SEMANA'] = df['DIA_TRANSPORTE'].dt.day_name()\n",
    "\n",
    "# Colocamos las columnas en un orden conveniente para trabajar : \n",
    "# Reorganiza las columnas para que 'DIA_SEMANA' esté en la posición 1\n",
    "df = df[['DIA_TRANSPORTE', 'DIA_SEMANA', 'NOMBRE_EMPRESA', 'LINEA', 'AMBA', 'TIPO_TRANSPORTE', 'JURISDICCION', 'PROVINCIA', 'MUNICIPIO', 'CANTIDAD', 'DATO_PRELIMINAR']]\n"
   ]
  },
  {
   "cell_type": "code",
   "execution_count": 31,
   "id": "d3dffaba",
   "metadata": {},
   "outputs": [
    {
     "name": "stdout",
     "output_type": "stream",
     "text": [
      "<class 'pandas.core.frame.DataFrame'>\n",
      "Int64Index: 6629 entries, 346 to 438551\n",
      "Data columns (total 11 columns):\n",
      " #   Column           Non-Null Count  Dtype         \n",
      "---  ------           --------------  -----         \n",
      " 0   DIA_TRANSPORTE   6629 non-null   datetime64[ns]\n",
      " 1   DIA_SEMANA       6629 non-null   object        \n",
      " 2   NOMBRE_EMPRESA   6629 non-null   object        \n",
      " 3   LINEA            6629 non-null   object        \n",
      " 4   AMBA             6629 non-null   object        \n",
      " 5   TIPO_TRANSPORTE  6629 non-null   object        \n",
      " 6   JURISDICCION     6629 non-null   object        \n",
      " 7   PROVINCIA        6629 non-null   object        \n",
      " 8   MUNICIPIO        6629 non-null   object        \n",
      " 9   CANTIDAD         6629 non-null   int64         \n",
      " 10  DATO_PRELIMINAR  6629 non-null   object        \n",
      "dtypes: datetime64[ns](1), int64(1), object(9)\n",
      "memory usage: 621.5+ KB\n"
     ]
    }
   ],
   "source": [
    "df.info()"
   ]
  },
  {
   "cell_type": "code",
   "execution_count": 33,
   "id": "b5a86115",
   "metadata": {},
   "outputs": [],
   "source": [
    "# Guardamos el DataFrame modificado en un archivo CSV con un nombre específico\n",
    "df.to_csv('datosoficiales2022_trenes.csv', index=False)"
   ]
  },
  {
   "cell_type": "code",
   "execution_count": null,
   "id": "7a5c4f3a",
   "metadata": {},
   "outputs": [],
   "source": []
  }
 ],
 "metadata": {
  "kernelspec": {
   "display_name": "Python 3 (ipykernel)",
   "language": "python",
   "name": "python3"
  },
  "language_info": {
   "codemirror_mode": {
    "name": "ipython",
    "version": 3
   },
   "file_extension": ".py",
   "mimetype": "text/x-python",
   "name": "python",
   "nbconvert_exporter": "python",
   "pygments_lexer": "ipython3",
   "version": "3.9.13"
  }
 },
 "nbformat": 4,
 "nbformat_minor": 5
}
